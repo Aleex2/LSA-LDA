{
 "cells": [
  {
   "cell_type": "code",
   "execution_count": 7,
   "metadata": {},
   "outputs": [],
   "source": [
    "import zipfile\n",
    "import pandas as pd\n",
    "import os\n",
    "\n",
    "# Deschide fisierul zip\n",
    "with zipfile.ZipFile(\"C:\\\\Users\\\\Iuliana\\\\Desktop\\\\medium-articles-master\\\\natural-language-processing\\\\topic-modeling\\\\data\\\\NIPS Papers.zip\", \"r\") as zip_ref:\n",
    "    zip_ref.extractall(\"temp\")\n",
    "\n",
    "papers = pd.read_csv(\"temp/NIPS Papers/papers.csv\")\n"
   ]
  },
  {
   "cell_type": "code",
   "execution_count": 8,
   "metadata": {},
   "outputs": [],
   "source": [
    "# elimina coloanele\n",
    "papers = papers.drop(columns=['id', 'event_type', 'pdf_name'], axis=1).sample(100)\n"
   ]
  },
  {
   "cell_type": "code",
   "execution_count": 9,
   "metadata": {},
   "outputs": [],
   "source": [
    "# Load the regular expression library\n",
    "import re\n",
    "\n",
    "# elimina punctuatia\n",
    "papers['paper_text_processed'] = \\\n",
    "papers['paper_text'].map(lambda x: re.sub('[,\\.!?]', '', x))\n",
    "\n",
    "# Uppercase devin lowercase\n",
    "papers['paper_text_processed'] = \\\n",
    "papers['paper_text_processed'].map(lambda x: x.lower())\n"
   ]
  },
  {
   "cell_type": "code",
   "execution_count": 10,
   "metadata": {},
   "outputs": [
    {
     "name": "stderr",
     "output_type": "stream",
     "text": [
      "[nltk_data] Downloading package stopwords to\n",
      "[nltk_data]     C:\\Users\\Iuliana\\AppData\\Roaming\\nltk_data...\n",
      "[nltk_data]   Package stopwords is already up-to-date!\n"
     ]
    }
   ],
   "source": [
    "import gensim\n",
    "from gensim.utils import simple_preprocess\n",
    "import nltk\n",
    "nltk.download('stopwords')\n",
    "from nltk.corpus import stopwords\n",
    "\n",
    "stop_words = stopwords.words('english')\n",
    "stop_words.extend(['from', 'subject', 're', 'edu', 'use'])\n",
    "\n",
    "def sent_to_words(sentences):\n",
    "    for sentence in sentences:\n",
    "        yield(gensim.utils.simple_preprocess(str(sentence), deacc=True))\n",
    "\n",
    "def remove_stopwords(texts):\n",
    "    return [[word for word in simple_preprocess(str(doc)) \n",
    "             if word not in stop_words] for doc in texts]\n",
    "\n",
    "\n",
    "data = papers.paper_text_processed.values.tolist()\n",
    "data_words = list(sent_to_words(data))\n",
    "\n",
    "# se elimina stop words\n",
    "data_words = remove_stopwords(data_words)\n"
   ]
  },
  {
   "cell_type": "code",
   "execution_count": 11,
   "metadata": {},
   "outputs": [],
   "source": [
    "import gensim.corpora as corpora\n",
    "\n",
    "# Se creaza dictionar\n",
    "id2word = corpora.Dictionary(data_words)\n",
    "texts = data_words\n",
    "\n",
    "# Se foloseste conceptul de bags of words astfel documentul este transfomat in cuvinte separate necontand ordinea\n",
    "corpus = [id2word.doc2bow(text) for text in texts]"
   ]
  },
  {
   "cell_type": "code",
   "execution_count": 12,
   "metadata": {},
   "outputs": [
    {
     "name": "stdout",
     "output_type": "stream",
     "text": [
      "[(0,\n",
      "  '0.006*\"algorithm\" + 0.006*\"learning\" + 0.005*\"training\" + 0.004*\"time\" + '\n",
      "  '0.004*\"set\" + 0.004*\"data\" + 0.004*\"network\" + 0.004*\"one\" + 0.003*\"model\" '\n",
      "  '+ 0.003*\"using\"'),\n",
      " (1,\n",
      "  '0.006*\"data\" + 0.006*\"model\" + 0.005*\"function\" + 0.005*\"set\" + '\n",
      "  '0.004*\"time\" + 0.004*\"two\" + 0.004*\"one\" + 0.003*\"learning\" + '\n",
      "  '0.003*\"training\" + 0.003*\"neural\"'),\n",
      " (2,\n",
      "  '0.007*\"model\" + 0.005*\"set\" + 0.005*\"learning\" + 0.004*\"data\" + '\n",
      "  '0.004*\"algorithm\" + 0.004*\"function\" + 0.004*\"using\" + 0.004*\"one\" + '\n",
      "  '0.003*\"number\" + 0.003*\"problem\"'),\n",
      " (3,\n",
      "  '0.005*\"algorithm\" + 0.005*\"time\" + 0.005*\"data\" + 0.005*\"model\" + '\n",
      "  '0.005*\"set\" + 0.005*\"learning\" + 0.004*\"log\" + 0.004*\"function\" + '\n",
      "  '0.003*\"using\" + 0.003*\"one\"'),\n",
      " (4,\n",
      "  '0.006*\"learning\" + 0.005*\"model\" + 0.005*\"data\" + 0.004*\"set\" + '\n",
      "  '0.004*\"using\" + 0.004*\"algorithm\" + 0.004*\"one\" + 0.004*\"function\" + '\n",
      "  '0.003*\"distribution\" + 0.003*\"time\"'),\n",
      " (5,\n",
      "  '0.005*\"learning\" + 0.005*\"time\" + 0.005*\"model\" + 0.005*\"algorithm\" + '\n",
      "  '0.004*\"set\" + 0.004*\"data\" + 0.004*\"using\" + 0.004*\"function\" + 0.004*\"one\" '\n",
      "  '+ 0.003*\"two\"'),\n",
      " (6,\n",
      "  '0.006*\"model\" + 0.006*\"data\" + 0.005*\"time\" + 0.004*\"algorithm\" + '\n",
      "  '0.004*\"learning\" + 0.004*\"set\" + 0.003*\"given\" + 0.003*\"one\" + '\n",
      "  '0.003*\"number\" + 0.003*\"using\"'),\n",
      " (7,\n",
      "  '0.007*\"model\" + 0.005*\"data\" + 0.005*\"learning\" + 0.004*\"set\" + '\n",
      "  '0.004*\"algorithm\" + 0.004*\"one\" + 0.004*\"function\" + 0.003*\"time\" + '\n",
      "  '0.003*\"problem\" + 0.003*\"given\"'),\n",
      " (8,\n",
      "  '0.008*\"data\" + 0.006*\"model\" + 0.005*\"algorithm\" + 0.004*\"function\" + '\n",
      "  '0.004*\"one\" + 0.004*\"learning\" + 0.004*\"figure\" + 0.004*\"training\" + '\n",
      "  '0.003*\"number\" + 0.003*\"using\"'),\n",
      " (9,\n",
      "  '0.007*\"learning\" + 0.007*\"data\" + 0.007*\"model\" + 0.005*\"algorithm\" + '\n",
      "  '0.004*\"function\" + 0.004*\"using\" + 0.004*\"time\" + 0.004*\"number\" + '\n",
      "  '0.003*\"training\" + 0.003*\"set\"')]\n"
     ]
    }
   ],
   "source": [
    "from pprint import pprint\n",
    "\n",
    "num_topics = 10\n",
    "\n",
    "# Build LDA model\n",
    "LDAmodel = gensim.models.LdaMulticore(corpus=corpus, id2word=id2word,num_topics=num_topics)\n",
    "\n",
    "# Se printeaza 10 cuvinte cheie pentru temele alese\n",
    "pprint(LDAmodel.print_topics())\n",
    "doc_lda = LDAmodel[corpus]"
   ]
  }
 ],
 "metadata": {
  "kernelspec": {
   "display_name": "Python 3",
   "language": "python",
   "name": "python3"
  },
  "language_info": {
   "codemirror_mode": {
    "name": "ipython",
    "version": 3
   },
   "file_extension": ".py",
   "mimetype": "text/x-python",
   "name": "python",
   "nbconvert_exporter": "python",
   "pygments_lexer": "ipython3",
   "version": "3.10.9 (tags/v3.10.9:1dd9be6, Dec  6 2022, 20:01:21) [MSC v.1934 64 bit (AMD64)]"
  },
  "vscode": {
   "interpreter": {
    "hash": "b47e9715c2a8bc0179ff3d7769d4ea0e7be5fc19acddbd1b1a9bd07f5c94e09e"
   }
  }
 },
 "nbformat": 4,
 "nbformat_minor": 4
}
